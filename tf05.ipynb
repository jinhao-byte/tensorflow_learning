{
  "nbformat": 4,
  "nbformat_minor": 0,
  "metadata": {
    "colab": {
      "provenance": []
    },
    "kernelspec": {
      "name": "python3",
      "display_name": "Python 3"
    },
    "language_info": {
      "name": "python"
    }
  },
  "cells": [
    {
      "cell_type": "code",
      "execution_count": null,
      "metadata": {
        "id": "Vf0XTTZ3L93p"
      },
      "outputs": [],
      "source": [
        "import tensorflow as tf\n",
        "from matplotlib import pyplot as plt"
      ]
    },
    {
      "cell_type": "code",
      "source": [
        "plt.rcParams['font.size'] = 16\n",
        "plt.rcParams['font.family'] = ['STKaiti']\n",
        "plt.rcParams['axes.unicode_minus'] = False"
      ],
      "metadata": {
        "id": "aeP_ajRnMDQY"
      },
      "execution_count": null,
      "outputs": []
    },
    {
      "cell_type": "code",
      "source": [
        "# 创建 W,b 张量\n",
        "x = tf.random.normal([2,5])\n",
        "w1 = tf.Variable(tf.random.truncated_normal([5, 10], stddev=0.1))\n",
        "b1 = tf.Variable(tf.ones([10]))"
      ],
      "metadata": {
        "id": "1gisEjv0MDSe"
      },
      "execution_count": null,
      "outputs": []
    },
    {
      "cell_type": "code",
      "source": [
        "x.shape"
      ],
      "metadata": {
        "colab": {
          "base_uri": "https://localhost:8080/"
        },
        "id": "8y7Oa6e3M_pB",
        "outputId": "5e694b47-50a1-4250-8de1-0308f07ba7ba"
      },
      "execution_count": null,
      "outputs": [
        {
          "output_type": "execute_result",
          "data": {
            "text/plain": [
              "TensorShape([2, 5])"
            ]
          },
          "metadata": {},
          "execution_count": 31
        }
      ]
    },
    {
      "cell_type": "code",
      "source": [
        "x"
      ],
      "metadata": {
        "colab": {
          "base_uri": "https://localhost:8080/"
        },
        "id": "3G72LvanNq4k",
        "outputId": "86b6752d-41e1-41ab-885a-72523aff0cd1"
      },
      "execution_count": null,
      "outputs": [
        {
          "output_type": "execute_result",
          "data": {
            "text/plain": [
              "<tf.Tensor: shape=(2, 5), dtype=float32, numpy=\n",
              "array([[ 0.9603022 ,  0.83019936,  0.6645588 ,  0.61551654, -0.01789901],\n",
              "       [ 0.06809555, -0.3022149 , -0.01588861,  2.1857028 , -0.8113959 ]],\n",
              "      dtype=float32)>"
            ]
          },
          "metadata": {},
          "execution_count": 32
        }
      ]
    },
    {
      "cell_type": "code",
      "source": [
        "w1.shape"
      ],
      "metadata": {
        "colab": {
          "base_uri": "https://localhost:8080/"
        },
        "id": "8T3orn8WM_r-",
        "outputId": "97869ae9-028b-4f90-e938-2c47b3e7c23c"
      },
      "execution_count": null,
      "outputs": [
        {
          "output_type": "execute_result",
          "data": {
            "text/plain": [
              "TensorShape([5, 10])"
            ]
          },
          "metadata": {},
          "execution_count": 33
        }
      ]
    },
    {
      "cell_type": "code",
      "source": [
        "w1"
      ],
      "metadata": {
        "colab": {
          "base_uri": "https://localhost:8080/"
        },
        "id": "Aw3WjkPCNrXa",
        "outputId": "57bd6f51-9c44-474c-c651-e9d1aeeeab5f"
      },
      "execution_count": null,
      "outputs": [
        {
          "output_type": "execute_result",
          "data": {
            "text/plain": [
              "<tf.Variable 'Variable:0' shape=(5, 10) dtype=float32, numpy=\n",
              "array([[ 0.10207744, -0.08792242, -0.10643263,  0.00519138,  0.0468709 ,\n",
              "         0.12437171,  0.02414432,  0.10478854,  0.00790195,  0.05299341],\n",
              "       [ 0.14994673, -0.03302911, -0.07381869, -0.08884042,  0.04294717,\n",
              "        -0.12653068, -0.17531738,  0.12302207,  0.08941293, -0.06098759],\n",
              "       [ 0.05411225,  0.08099547,  0.00239847, -0.17154105, -0.13833036,\n",
              "         0.08101197, -0.10532776,  0.03379022,  0.05059404,  0.08282928],\n",
              "       [-0.11749562, -0.14213137, -0.00053152,  0.02945859, -0.18933596,\n",
              "        -0.17172113, -0.09952335,  0.16082254,  0.02820495,  0.07948216],\n",
              "       [-0.07555396, -0.03946165, -0.04304051, -0.12664418,  0.11294513,\n",
              "         0.00354131, -0.02994685,  0.05042721,  0.01782449,  0.01655318]],\n",
              "      dtype=float32)>"
            ]
          },
          "metadata": {},
          "execution_count": 34
        }
      ]
    },
    {
      "cell_type": "code",
      "source": [
        "b1.shape"
      ],
      "metadata": {
        "colab": {
          "base_uri": "https://localhost:8080/"
        },
        "id": "9oOvC4C_NFaH",
        "outputId": "413bb295-3112-4227-d63e-926ef2811183"
      },
      "execution_count": null,
      "outputs": [
        {
          "output_type": "execute_result",
          "data": {
            "text/plain": [
              "TensorShape([10])"
            ]
          },
          "metadata": {},
          "execution_count": 35
        }
      ]
    },
    {
      "cell_type": "code",
      "source": [
        "b1"
      ],
      "metadata": {
        "colab": {
          "base_uri": "https://localhost:8080/"
        },
        "id": "jjopEWOiNr1W",
        "outputId": "a3e4de94-2497-4a01-83f7-707d11d301cd"
      },
      "execution_count": null,
      "outputs": [
        {
          "output_type": "execute_result",
          "data": {
            "text/plain": [
              "<tf.Variable 'Variable:0' shape=(10,) dtype=float32, numpy=array([1., 1., 1., 1., 1., 1., 1., 1., 1., 1.], dtype=float32)>"
            ]
          },
          "metadata": {},
          "execution_count": 36
        }
      ]
    },
    {
      "cell_type": "code",
      "source": [
        "o1 = tf.matmul(x,w1)\n",
        "o1"
      ],
      "metadata": {
        "colab": {
          "base_uri": "https://localhost:8080/"
        },
        "id": "YuUyyypoN-Qz",
        "outputId": "87175649-e40c-40fd-8af4-4ceeaa67649f"
      },
      "execution_count": null,
      "outputs": [
        {
          "output_type": "execute_result",
          "data": {
            "text/plain": [
              "<tf.Tensor: shape=(2, 10), dtype=float32, numpy=\n",
              "array([[ 0.18750349, -0.14480446, -0.16145457, -0.16237003, -0.12982474,\n",
              "        -0.03753464, -0.25308126,  0.32330343,  0.13248311,  0.10392906],\n",
              "       [-0.23473123, -0.27593005,  0.04878456,  0.19707423, -0.51306504,\n",
              "        -0.3327833 , -0.13692856,  0.28001347,  0.01989723,  0.18101713]],\n",
              "      dtype=float32)>"
            ]
          },
          "metadata": {},
          "execution_count": 37
        }
      ]
    },
    {
      "cell_type": "code",
      "source": [
        "# 线性变换\n",
        "o1 = tf.matmul(x,w1) + b1\n",
        "o1"
      ],
      "metadata": {
        "colab": {
          "base_uri": "https://localhost:8080/"
        },
        "id": "WPPK5QRDNLNM",
        "outputId": "1059c06e-142d-4762-826f-4d55ae4c540d"
      },
      "execution_count": null,
      "outputs": [
        {
          "output_type": "execute_result",
          "data": {
            "text/plain": [
              "<tf.Tensor: shape=(2, 10), dtype=float32, numpy=\n",
              "array([[1.1875035 , 0.8551955 , 0.83854544, 0.83763   , 0.87017524,\n",
              "        0.96246535, 0.74691874, 1.3233035 , 1.1324831 , 1.103929  ],\n",
              "       [0.7652688 , 0.72406995, 1.0487846 , 1.1970742 , 0.48693496,\n",
              "        0.66721666, 0.86307144, 1.2800134 , 1.0198972 , 1.1810172 ]],\n",
              "      dtype=float32)>"
            ]
          },
          "metadata": {},
          "execution_count": 38
        }
      ]
    },
    {
      "cell_type": "code",
      "source": [
        "o1"
      ],
      "metadata": {
        "colab": {
          "base_uri": "https://localhost:8080/"
        },
        "id": "ErQqbRdQNLPd",
        "outputId": "29ddacc5-1495-4414-9568-43ec10e8faf0"
      },
      "execution_count": null,
      "outputs": [
        {
          "output_type": "execute_result",
          "data": {
            "text/plain": [
              "<tf.Tensor: shape=(2, 10), dtype=float32, numpy=\n",
              "array([[1.1875035 , 0.8551955 , 0.83854544, 0.83763   , 0.87017524,\n",
              "        0.96246535, 0.74691874, 1.3233035 , 1.1324831 , 1.103929  ],\n",
              "       [0.7652688 , 0.72406995, 1.0487846 , 1.1970742 , 0.48693496,\n",
              "        0.66721666, 0.86307144, 1.2800134 , 1.0198972 , 1.1810172 ]],\n",
              "      dtype=float32)>"
            ]
          },
          "metadata": {},
          "execution_count": 39
        }
      ]
    },
    {
      "cell_type": "code",
      "source": [
        "# 激活函数\n",
        "o1 = tf.nn.relu(o1)"
      ],
      "metadata": {
        "id": "0XQmx5MjNLRc"
      },
      "execution_count": null,
      "outputs": []
    },
    {
      "cell_type": "code",
      "source": [
        "o1"
      ],
      "metadata": {
        "colab": {
          "base_uri": "https://localhost:8080/"
        },
        "id": "-5UdVpFHNkFA",
        "outputId": "10880355-19d9-4369-9ca8-619066b66d61"
      },
      "execution_count": null,
      "outputs": [
        {
          "output_type": "execute_result",
          "data": {
            "text/plain": [
              "<tf.Tensor: shape=(2, 10), dtype=float32, numpy=\n",
              "array([[1.1875035 , 0.8551955 , 0.83854544, 0.83763   , 0.87017524,\n",
              "        0.96246535, 0.74691874, 1.3233035 , 1.1324831 , 1.103929  ],\n",
              "       [0.7652688 , 0.72406995, 1.0487846 , 1.1970742 , 0.48693496,\n",
              "        0.66721666, 0.86307144, 1.2800134 , 1.0198972 , 1.1810172 ]],\n",
              "      dtype=float32)>"
            ]
          },
          "metadata": {},
          "execution_count": 41
        }
      ]
    },
    {
      "cell_type": "code",
      "source": [
        "x = tf.random.normal([4,28*28])"
      ],
      "metadata": {
        "id": "Ty6_XGozOT08"
      },
      "execution_count": null,
      "outputs": []
    },
    {
      "cell_type": "code",
      "source": [
        "# 导入层模块\n",
        "from tensorflow.keras import layers"
      ],
      "metadata": {
        "id": "6ANSAyBmOT3Z"
      },
      "execution_count": null,
      "outputs": []
    },
    {
      "cell_type": "code",
      "source": [
        "# 创建全连接层，指定输出节点数和激活函数\n",
        "fc = layers.Dense(512, activation=tf.nn.relu)"
      ],
      "metadata": {
        "id": "nNjd8BReOT5N"
      },
      "execution_count": null,
      "outputs": []
    },
    {
      "cell_type": "code",
      "source": [
        "# 通过 fc 类实例完成一次全连接层的计算，返回输出张量\n",
        "h1 = fc(x)\n",
        "h1"
      ],
      "metadata": {
        "colab": {
          "base_uri": "https://localhost:8080/"
        },
        "id": "ktJmUz92OT8b",
        "outputId": "2e39b7c9-f7b2-4b6e-9e0b-54ae7a399381"
      },
      "execution_count": null,
      "outputs": [
        {
          "output_type": "execute_result",
          "data": {
            "text/plain": [
              "<tf.Tensor: shape=(4, 512), dtype=float32, numpy=\n",
              "array([[1.8731356 , 0.        , 1.8574799 , ..., 0.        , 0.6788043 ,\n",
              "        0.17816591],\n",
              "       [1.2820723 , 0.07679738, 1.2154546 , ..., 0.05584311, 1.1987467 ,\n",
              "        0.        ],\n",
              "       [0.        , 0.        , 1.3025131 , ..., 0.        , 1.9007425 ,\n",
              "        0.01764208],\n",
              "       [0.        , 0.        , 0.5586759 , ..., 0.        , 2.0304675 ,\n",
              "        1.1567775 ]], dtype=float32)>"
            ]
          },
          "metadata": {},
          "execution_count": 52
        }
      ]
    },
    {
      "cell_type": "code",
      "source": [
        "h1.shape"
      ],
      "metadata": {
        "colab": {
          "base_uri": "https://localhost:8080/"
        },
        "id": "hh30j7NLRWKP",
        "outputId": "992cbaff-6067-4a91-8131-da6acde6b176"
      },
      "execution_count": null,
      "outputs": [
        {
          "output_type": "execute_result",
          "data": {
            "text/plain": [
              "TensorShape([4, 512])"
            ]
          },
          "metadata": {},
          "execution_count": 53
        }
      ]
    },
    {
      "cell_type": "code",
      "source": [
        "# 获取 Dense 类的权值矩阵\n",
        "print(fc.kernel)\n",
        "# 获取 Dense 类的偏置向量\n",
        "print(fc.bias)\n",
        "# 待优化参数列表\n",
        "print(fc.trainable_variables)\n",
        "# 返回所有参数列表\n",
        "print(fc.variables)"
      ],
      "metadata": {
        "colab": {
          "base_uri": "https://localhost:8080/"
        },
        "id": "WqBvgQDqRWMJ",
        "outputId": "209dde31-699b-4730-c100-5d4d1e36b70b"
      },
      "execution_count": null,
      "outputs": [
        {
          "output_type": "stream",
          "name": "stdout",
          "text": [
            "<Variable path=dense_1/kernel, shape=(784, 512), dtype=float32, value=[[-0.02760638  0.05575391  0.00150662 ... -0.05848197 -0.03964124\n",
            "  -0.02426914]\n",
            " [-0.03745361  0.02365926 -0.02630363 ...  0.05649843 -0.03401458\n",
            "   0.04691949]\n",
            " [-0.04088494  0.04232427  0.05390918 ... -0.02814139 -0.05033696\n",
            "  -0.04038478]\n",
            " ...\n",
            " [-0.0181361  -0.00180238  0.06152539 ... -0.03831075  0.06430805\n",
            "  -0.03845445]\n",
            " [ 0.03224834  0.03529681 -0.02469555 ... -0.02614558  0.04750974\n",
            "  -0.0474347 ]\n",
            " [-0.01101775 -0.02393081 -0.00108542 ... -0.02498711  0.06109421\n",
            "   0.00640339]]>\n",
            "<Variable path=dense_1/bias, shape=(512,), dtype=float32, value=[0. 0. 0. 0. 0. 0. 0. 0. 0. 0. 0. 0. 0. 0. 0. 0. 0. 0. 0. 0. 0. 0. 0. 0.\n",
            " 0. 0. 0. 0. 0. 0. 0. 0. 0. 0. 0. 0. 0. 0. 0. 0. 0. 0. 0. 0. 0. 0. 0. 0.\n",
            " 0. 0. 0. 0. 0. 0. 0. 0. 0. 0. 0. 0. 0. 0. 0. 0. 0. 0. 0. 0. 0. 0. 0. 0.\n",
            " 0. 0. 0. 0. 0. 0. 0. 0. 0. 0. 0. 0. 0. 0. 0. 0. 0. 0. 0. 0. 0. 0. 0. 0.\n",
            " 0. 0. 0. 0. 0. 0. 0. 0. 0. 0. 0. 0. 0. 0. 0. 0. 0. 0. 0. 0. 0. 0. 0. 0.\n",
            " 0. 0. 0. 0. 0. 0. 0. 0. 0. 0. 0. 0. 0. 0. 0. 0. 0. 0. 0. 0. 0. 0. 0. 0.\n",
            " 0. 0. 0. 0. 0. 0. 0. 0. 0. 0. 0. 0. 0. 0. 0. 0. 0. 0. 0. 0. 0. 0. 0. 0.\n",
            " 0. 0. 0. 0. 0. 0. 0. 0. 0. 0. 0. 0. 0. 0. 0. 0. 0. 0. 0. 0. 0. 0. 0. 0.\n",
            " 0. 0. 0. 0. 0. 0. 0. 0. 0. 0. 0. 0. 0. 0. 0. 0. 0. 0. 0. 0. 0. 0. 0. 0.\n",
            " 0. 0. 0. 0. 0. 0. 0. 0. 0. 0. 0. 0. 0. 0. 0. 0. 0. 0. 0. 0. 0. 0. 0. 0.\n",
            " 0. 0. 0. 0. 0. 0. 0. 0. 0. 0. 0. 0. 0. 0. 0. 0. 0. 0. 0. 0. 0. 0. 0. 0.\n",
            " 0. 0. 0. 0. 0. 0. 0. 0. 0. 0. 0. 0. 0. 0. 0. 0. 0. 0. 0. 0. 0. 0. 0. 0.\n",
            " 0. 0. 0. 0. 0. 0. 0. 0. 0. 0. 0. 0. 0. 0. 0. 0. 0. 0. 0. 0. 0. 0. 0. 0.\n",
            " 0. 0. 0. 0. 0. 0. 0. 0. 0. 0. 0. 0. 0. 0. 0. 0. 0. 0. 0. 0. 0. 0. 0. 0.\n",
            " 0. 0. 0. 0. 0. 0. 0. 0. 0. 0. 0. 0. 0. 0. 0. 0. 0. 0. 0. 0. 0. 0. 0. 0.\n",
            " 0. 0. 0. 0. 0. 0. 0. 0. 0. 0. 0. 0. 0. 0. 0. 0. 0. 0. 0. 0. 0. 0. 0. 0.\n",
            " 0. 0. 0. 0. 0. 0. 0. 0. 0. 0. 0. 0. 0. 0. 0. 0. 0. 0. 0. 0. 0. 0. 0. 0.\n",
            " 0. 0. 0. 0. 0. 0. 0. 0. 0. 0. 0. 0. 0. 0. 0. 0. 0. 0. 0. 0. 0. 0. 0. 0.\n",
            " 0. 0. 0. 0. 0. 0. 0. 0. 0. 0. 0. 0. 0. 0. 0. 0. 0. 0. 0. 0. 0. 0. 0. 0.\n",
            " 0. 0. 0. 0. 0. 0. 0. 0. 0. 0. 0. 0. 0. 0. 0. 0. 0. 0. 0. 0. 0. 0. 0. 0.\n",
            " 0. 0. 0. 0. 0. 0. 0. 0. 0. 0. 0. 0. 0. 0. 0. 0. 0. 0. 0. 0. 0. 0. 0. 0.\n",
            " 0. 0. 0. 0. 0. 0. 0. 0.]>\n",
            "[<Variable path=dense_1/kernel, shape=(784, 512), dtype=float32, value=[[-0.02760638  0.05575391  0.00150662 ... -0.05848197 -0.03964124\n",
            "  -0.02426914]\n",
            " [-0.03745361  0.02365926 -0.02630363 ...  0.05649843 -0.03401458\n",
            "   0.04691949]\n",
            " [-0.04088494  0.04232427  0.05390918 ... -0.02814139 -0.05033696\n",
            "  -0.04038478]\n",
            " ...\n",
            " [-0.0181361  -0.00180238  0.06152539 ... -0.03831075  0.06430805\n",
            "  -0.03845445]\n",
            " [ 0.03224834  0.03529681 -0.02469555 ... -0.02614558  0.04750974\n",
            "  -0.0474347 ]\n",
            " [-0.01101775 -0.02393081 -0.00108542 ... -0.02498711  0.06109421\n",
            "   0.00640339]]>, <Variable path=dense_1/bias, shape=(512,), dtype=float32, value=[0. 0. 0. 0. 0. 0. 0. 0. 0. 0. 0. 0. 0. 0. 0. 0. 0. 0. 0. 0. 0. 0. 0. 0.\n",
            " 0. 0. 0. 0. 0. 0. 0. 0. 0. 0. 0. 0. 0. 0. 0. 0. 0. 0. 0. 0. 0. 0. 0. 0.\n",
            " 0. 0. 0. 0. 0. 0. 0. 0. 0. 0. 0. 0. 0. 0. 0. 0. 0. 0. 0. 0. 0. 0. 0. 0.\n",
            " 0. 0. 0. 0. 0. 0. 0. 0. 0. 0. 0. 0. 0. 0. 0. 0. 0. 0. 0. 0. 0. 0. 0. 0.\n",
            " 0. 0. 0. 0. 0. 0. 0. 0. 0. 0. 0. 0. 0. 0. 0. 0. 0. 0. 0. 0. 0. 0. 0. 0.\n",
            " 0. 0. 0. 0. 0. 0. 0. 0. 0. 0. 0. 0. 0. 0. 0. 0. 0. 0. 0. 0. 0. 0. 0. 0.\n",
            " 0. 0. 0. 0. 0. 0. 0. 0. 0. 0. 0. 0. 0. 0. 0. 0. 0. 0. 0. 0. 0. 0. 0. 0.\n",
            " 0. 0. 0. 0. 0. 0. 0. 0. 0. 0. 0. 0. 0. 0. 0. 0. 0. 0. 0. 0. 0. 0. 0. 0.\n",
            " 0. 0. 0. 0. 0. 0. 0. 0. 0. 0. 0. 0. 0. 0. 0. 0. 0. 0. 0. 0. 0. 0. 0. 0.\n",
            " 0. 0. 0. 0. 0. 0. 0. 0. 0. 0. 0. 0. 0. 0. 0. 0. 0. 0. 0. 0. 0. 0. 0. 0.\n",
            " 0. 0. 0. 0. 0. 0. 0. 0. 0. 0. 0. 0. 0. 0. 0. 0. 0. 0. 0. 0. 0. 0. 0. 0.\n",
            " 0. 0. 0. 0. 0. 0. 0. 0. 0. 0. 0. 0. 0. 0. 0. 0. 0. 0. 0. 0. 0. 0. 0. 0.\n",
            " 0. 0. 0. 0. 0. 0. 0. 0. 0. 0. 0. 0. 0. 0. 0. 0. 0. 0. 0. 0. 0. 0. 0. 0.\n",
            " 0. 0. 0. 0. 0. 0. 0. 0. 0. 0. 0. 0. 0. 0. 0. 0. 0. 0. 0. 0. 0. 0. 0. 0.\n",
            " 0. 0. 0. 0. 0. 0. 0. 0. 0. 0. 0. 0. 0. 0. 0. 0. 0. 0. 0. 0. 0. 0. 0. 0.\n",
            " 0. 0. 0. 0. 0. 0. 0. 0. 0. 0. 0. 0. 0. 0. 0. 0. 0. 0. 0. 0. 0. 0. 0. 0.\n",
            " 0. 0. 0. 0. 0. 0. 0. 0. 0. 0. 0. 0. 0. 0. 0. 0. 0. 0. 0. 0. 0. 0. 0. 0.\n",
            " 0. 0. 0. 0. 0. 0. 0. 0. 0. 0. 0. 0. 0. 0. 0. 0. 0. 0. 0. 0. 0. 0. 0. 0.\n",
            " 0. 0. 0. 0. 0. 0. 0. 0. 0. 0. 0. 0. 0. 0. 0. 0. 0. 0. 0. 0. 0. 0. 0. 0.\n",
            " 0. 0. 0. 0. 0. 0. 0. 0. 0. 0. 0. 0. 0. 0. 0. 0. 0. 0. 0. 0. 0. 0. 0. 0.\n",
            " 0. 0. 0. 0. 0. 0. 0. 0. 0. 0. 0. 0. 0. 0. 0. 0. 0. 0. 0. 0. 0. 0. 0. 0.\n",
            " 0. 0. 0. 0. 0. 0. 0. 0.]>]\n",
            "[<Variable path=dense_1/kernel, shape=(784, 512), dtype=float32, value=[[-0.02760638  0.05575391  0.00150662 ... -0.05848197 -0.03964124\n",
            "  -0.02426914]\n",
            " [-0.03745361  0.02365926 -0.02630363 ...  0.05649843 -0.03401458\n",
            "   0.04691949]\n",
            " [-0.04088494  0.04232427  0.05390918 ... -0.02814139 -0.05033696\n",
            "  -0.04038478]\n",
            " ...\n",
            " [-0.0181361  -0.00180238  0.06152539 ... -0.03831075  0.06430805\n",
            "  -0.03845445]\n",
            " [ 0.03224834  0.03529681 -0.02469555 ... -0.02614558  0.04750974\n",
            "  -0.0474347 ]\n",
            " [-0.01101775 -0.02393081 -0.00108542 ... -0.02498711  0.06109421\n",
            "   0.00640339]]>, <Variable path=dense_1/bias, shape=(512,), dtype=float32, value=[0. 0. 0. 0. 0. 0. 0. 0. 0. 0. 0. 0. 0. 0. 0. 0. 0. 0. 0. 0. 0. 0. 0. 0.\n",
            " 0. 0. 0. 0. 0. 0. 0. 0. 0. 0. 0. 0. 0. 0. 0. 0. 0. 0. 0. 0. 0. 0. 0. 0.\n",
            " 0. 0. 0. 0. 0. 0. 0. 0. 0. 0. 0. 0. 0. 0. 0. 0. 0. 0. 0. 0. 0. 0. 0. 0.\n",
            " 0. 0. 0. 0. 0. 0. 0. 0. 0. 0. 0. 0. 0. 0. 0. 0. 0. 0. 0. 0. 0. 0. 0. 0.\n",
            " 0. 0. 0. 0. 0. 0. 0. 0. 0. 0. 0. 0. 0. 0. 0. 0. 0. 0. 0. 0. 0. 0. 0. 0.\n",
            " 0. 0. 0. 0. 0. 0. 0. 0. 0. 0. 0. 0. 0. 0. 0. 0. 0. 0. 0. 0. 0. 0. 0. 0.\n",
            " 0. 0. 0. 0. 0. 0. 0. 0. 0. 0. 0. 0. 0. 0. 0. 0. 0. 0. 0. 0. 0. 0. 0. 0.\n",
            " 0. 0. 0. 0. 0. 0. 0. 0. 0. 0. 0. 0. 0. 0. 0. 0. 0. 0. 0. 0. 0. 0. 0. 0.\n",
            " 0. 0. 0. 0. 0. 0. 0. 0. 0. 0. 0. 0. 0. 0. 0. 0. 0. 0. 0. 0. 0. 0. 0. 0.\n",
            " 0. 0. 0. 0. 0. 0. 0. 0. 0. 0. 0. 0. 0. 0. 0. 0. 0. 0. 0. 0. 0. 0. 0. 0.\n",
            " 0. 0. 0. 0. 0. 0. 0. 0. 0. 0. 0. 0. 0. 0. 0. 0. 0. 0. 0. 0. 0. 0. 0. 0.\n",
            " 0. 0. 0. 0. 0. 0. 0. 0. 0. 0. 0. 0. 0. 0. 0. 0. 0. 0. 0. 0. 0. 0. 0. 0.\n",
            " 0. 0. 0. 0. 0. 0. 0. 0. 0. 0. 0. 0. 0. 0. 0. 0. 0. 0. 0. 0. 0. 0. 0. 0.\n",
            " 0. 0. 0. 0. 0. 0. 0. 0. 0. 0. 0. 0. 0. 0. 0. 0. 0. 0. 0. 0. 0. 0. 0. 0.\n",
            " 0. 0. 0. 0. 0. 0. 0. 0. 0. 0. 0. 0. 0. 0. 0. 0. 0. 0. 0. 0. 0. 0. 0. 0.\n",
            " 0. 0. 0. 0. 0. 0. 0. 0. 0. 0. 0. 0. 0. 0. 0. 0. 0. 0. 0. 0. 0. 0. 0. 0.\n",
            " 0. 0. 0. 0. 0. 0. 0. 0. 0. 0. 0. 0. 0. 0. 0. 0. 0. 0. 0. 0. 0. 0. 0. 0.\n",
            " 0. 0. 0. 0. 0. 0. 0. 0. 0. 0. 0. 0. 0. 0. 0. 0. 0. 0. 0. 0. 0. 0. 0. 0.\n",
            " 0. 0. 0. 0. 0. 0. 0. 0. 0. 0. 0. 0. 0. 0. 0. 0. 0. 0. 0. 0. 0. 0. 0. 0.\n",
            " 0. 0. 0. 0. 0. 0. 0. 0. 0. 0. 0. 0. 0. 0. 0. 0. 0. 0. 0. 0. 0. 0. 0. 0.\n",
            " 0. 0. 0. 0. 0. 0. 0. 0. 0. 0. 0. 0. 0. 0. 0. 0. 0. 0. 0. 0. 0. 0. 0. 0.\n",
            " 0. 0. 0. 0. 0. 0. 0. 0.]>]\n"
          ]
        }
      ]
    },
    {
      "cell_type": "code",
      "source": [
        "# 隐藏层 1 张量\n",
        "w1 = tf.Variable(tf.random.truncated_normal([784, 256], stddev=0.1))\n",
        "b1 = tf.Variable(tf.zeros([256]))\n",
        "# 隐藏层 2 张量\n",
        "w2 = tf.Variable(tf.random.truncated_normal([256, 128], stddev=0.1))\n",
        "b2 = tf.Variable(tf.zeros([128]))\n",
        "# 隐藏层 3 张量\n",
        "w3 = tf.Variable(tf.random.truncated_normal([128, 64], stddev=0.1))\n",
        "b3 = tf.Variable(tf.zeros([64]))\n",
        "# 输出层张量\n",
        "w4 = tf.Variable(tf.random.truncated_normal([64, 10], stddev=0.1))\n",
        "b4 = tf.Variable(tf.zeros([10]))"
      ],
      "metadata": {
        "id": "WXRnkGe_RWOg"
      },
      "execution_count": null,
      "outputs": []
    },
    {
      "cell_type": "code",
      "source": [
        "with tf.GradientTape() as tape: # 梯度记录器\n",
        "    # x: [b, 28*28]\n",
        "    # 隐藏层 1 前向计算， [b, 28*28] => [b, 256]\n",
        "    h1 = x@w1 + tf.broadcast_to(b1, [x.shape[0], 256])\n",
        "    h1 = tf.nn.relu(h1)\n",
        "    # 隐藏层 2 前向计算， [b, 256] => [b, 128]\n",
        "    h2 = h1@w2 + b2\n",
        "    h2 = tf.nn.relu(h2)\n",
        "    # 隐藏层 3 前向计算， [b, 128] => [b, 64]\n",
        "    h3 = h2@w3 + b3\n",
        "    h3 = tf.nn.relu(h3)\n",
        "    # 输出层前向计算， [b, 64] => [b, 10]\n",
        "    h4 = h3@w4 + b4"
      ],
      "metadata": {
        "id": "m-st_zliRWQ8"
      },
      "execution_count": null,
      "outputs": []
    },
    {
      "cell_type": "code",
      "source": [
        "import tensorflow as tf\n",
        "\n",
        "# 定义模型参数\n",
        "w1 = tf.Variable(tf.random.normal([784, 256]))\n",
        "b1 = tf.Variable(tf.zeros([256]))\n",
        "w2 = tf.Variable(tf.random.normal([256, 128]))\n",
        "b2 = tf.Variable(tf.zeros([128]))\n",
        "w3 = tf.Variable(tf.random.normal([128, 64]))\n",
        "b3 = tf.Variable(tf.zeros([64]))\n",
        "w4 = tf.Variable(tf.random.normal([64, 10]))\n",
        "b4 = tf.Variable(tf.zeros([10]))\n",
        "\n",
        "# 输入数据\n",
        "x = tf.random.normal([32, 784])  # 假设有32个样本，每个样本784维\n",
        "\n",
        "# 使用梯度记录器\n",
        "with tf.GradientTape() as tape:\n",
        "    # 前向传播\n",
        "    h1 = x @ w1 + b1\n",
        "    h1 = tf.nn.relu(h1)\n",
        "    h2 = h1 @ w2 + b2\n",
        "    h2 = tf.nn.relu(h2)\n",
        "    h3 = h2 @ w3 + b3\n",
        "    h3 = tf.nn.relu(h3)\n",
        "    h4 = h3 @ w4 + b4\n",
        "    # 假设 h4 是输出，计算损失（例如交叉熵损失）\n",
        "    loss = tf.nn.softmax_cross_entropy_with_logits(labels=tf.one_hot(tf.random.uniform([32], maxval=10, dtype=tf.int32), 10), logits=h4)\n",
        "    loss = tf.reduce_mean(loss)\n",
        "\n",
        "# 计算梯度\n",
        "grads = tape.gradient(loss, [w1, b1, w2, b2, w3, b3, w4, b4])\n",
        "\n",
        "# 打印梯度\n",
        "for grad in grads:\n",
        "    print(grad.shape)"
      ],
      "metadata": {
        "id": "eQemgeKYfLKq"
      },
      "execution_count": null,
      "outputs": []
    },
    {
      "cell_type": "code",
      "source": [],
      "metadata": {
        "id": "UsLkvJPlfLM-"
      },
      "execution_count": null,
      "outputs": []
    },
    {
      "cell_type": "code",
      "source": [],
      "metadata": {
        "id": "YZgSQ3rJfLQD"
      },
      "execution_count": null,
      "outputs": []
    },
    {
      "cell_type": "code",
      "source": [],
      "metadata": {
        "id": "UbFM8DPEfLR7"
      },
      "execution_count": null,
      "outputs": []
    }
  ]
}